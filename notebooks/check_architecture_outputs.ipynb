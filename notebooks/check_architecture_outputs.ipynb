{
 "cells": [
  {
   "cell_type": "markdown",
   "id": "86fae58b-1679-4363-8b1b-44b06267b907",
   "metadata": {},
   "source": [
    "# check that Tensorflow and Pytorch PromoterAI architectures are equivalent"
   ]
  },
  {
   "cell_type": "code",
   "execution_count": null,
   "id": "bac38d75-52dd-4f48-8d83-c20b5bf231fc",
   "metadata": {},
   "outputs": [],
   "source": [
    "# functions to set all weights to constant value\n",
    "def set_all_weights_to_constant(model, value=1.0):\n",
    "    for name, param in model.named_parameters():\n",
    "        param.data.fill_(value)\n",
    "\n",
    "import tensorflow as tf\n",
    "from tensorflow.keras.initializers import Constant\n",
    "\n",
    "def set_all_weights_to_constant_tf(model, value=1.0):\n",
    "    for layer in model.layers:\n",
    "        for var in layer.variables:\n",
    "            var.assign(tf.ones_like(var) * value)"
   ]
  },
  {
   "cell_type": "code",
   "execution_count": 1,
   "id": "b373140e-8dd3-4d04-b780-a6353a9fa314",
   "metadata": {},
   "outputs": [],
   "source": [
    "# identical dummy input\n",
    "import numpy as np\n",
    "\n",
    "dummy_input = np.ones((1, 2048, 4), dtype=np.float32)"
   ]
  },
  {
   "cell_type": "code",
   "execution_count": 2,
   "id": "c4a310c0-25fe-4681-9896-0c3b2e16d9ae",
   "metadata": {},
   "outputs": [
    {
     "ename": "NameError",
     "evalue": "name 'model' is not defined",
     "output_type": "error",
     "traceback": [
      "\u001b[31m---------------------------------------------------------------------------\u001b[39m",
      "\u001b[31mNameError\u001b[39m                                 Traceback (most recent call last)",
      "\u001b[36mCell\u001b[39m\u001b[36m \u001b[39m\u001b[32mIn[2]\u001b[39m\u001b[32m, line 3\u001b[39m\n\u001b[32m      1\u001b[39m \u001b[38;5;66;03m# forward pass and compare\u001b[39;00m\n\u001b[32m      2\u001b[39m \u001b[38;5;66;03m# PyTorch\u001b[39;00m\n\u001b[32m----> \u001b[39m\u001b[32m3\u001b[39m output_pt = \u001b[43mmodel\u001b[49m(torch.from_numpy(dummy_input)).detach().numpy()\n\u001b[32m      5\u001b[39m \u001b[38;5;66;03m# TensorFlow\u001b[39;00m\n\u001b[32m      6\u001b[39m output_tf = model(dummy_input).numpy()\n",
      "\u001b[31mNameError\u001b[39m: name 'model' is not defined"
     ]
    }
   ],
   "source": [
    "# forward pass and compare\n",
    "# PyTorch\n",
    "output_pt = model(torch.from_numpy(dummy_input)).detach().numpy()\n",
    "\n",
    "# TensorFlow\n",
    "output_tf = model(dummy_input).numpy()\n",
    "\n",
    "# Compare\n",
    "np.allclose(output_pt, output_tf, atol=1e-5)"
   ]
  }
 ],
 "metadata": {
  "kernelspec": {
   "display_name": "Python 3 (ipykernel)",
   "language": "python",
   "name": "python3"
  },
  "language_info": {
   "codemirror_mode": {
    "name": "ipython",
    "version": 3
   },
   "file_extension": ".py",
   "mimetype": "text/x-python",
   "name": "python",
   "nbconvert_exporter": "python",
   "pygments_lexer": "ipython3",
   "version": "3.12.9"
  }
 },
 "nbformat": 4,
 "nbformat_minor": 5
}
